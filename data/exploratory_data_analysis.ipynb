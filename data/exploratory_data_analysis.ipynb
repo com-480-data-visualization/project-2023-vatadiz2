{
 "cells": [
  {
   "cell_type": "code",
   "execution_count": 2,
   "metadata": {},
   "outputs": [
    {
     "data": {
      "text/plain": [
       "(1894, 4)"
      ]
     },
     "execution_count": 2,
     "metadata": {},
     "output_type": "execute_result"
    }
   ],
   "source": [
    "import pandas as pd\n",
    "import numpy as np\n",
    "import matplotlib.pyplot as plt\n",
    "\n",
    "# Import dataset\n",
    "data = pd.read_csv('tarantino.csv')\n",
    "\n",
    "# Check the number of rows and columns\n",
    "data.shape"
   ]
  },
  {
   "cell_type": "code",
   "execution_count": 14,
   "metadata": {},
   "outputs": [
    {
     "name": "stdout",
     "output_type": "stream",
     "text": [
      "NB death: 190 - NB words: 1704\n"
     ]
    }
   ],
   "source": [
    "# Count the number of death and word\n",
    "\n",
    "# Group by type column and print the count of each type\n",
    "types = data.groupby('type')\n",
    "print(\"NB death:\", types.get_group('death').count()['type'], \"- NB words:\", types.get_group('word').count()['type'])"
   ]
  },
  {
   "cell_type": "code",
   "execution_count": 19,
   "metadata": {},
   "outputs": [
    {
     "name": "stdout",
     "output_type": "stream",
     "text": [
      "Number of different words: 60\n",
      "Top 5 words:\n",
      "fucking    407\n",
      "shit       221\n",
      "fuck       213\n",
      "n-word     179\n",
      "ass        140\n",
      "Name: word, dtype: int64\n"
     ]
    }
   ],
   "source": [
    "# Number of different words\n",
    "print(\"Number of different words:\", data['word'].nunique())\n",
    "\n",
    "# Show top 5 words\n",
    "print(\"Top 5 words:\")\n",
    "print(data['word'].value_counts().head())"
   ]
  },
  {
   "cell_type": "code",
   "execution_count": 37,
   "metadata": {},
   "outputs": [
    {
     "name": "stdout",
     "output_type": "stream",
     "text": [
      "Number of words per movie:\n",
      "movie\n",
      "Django Unchained       262\n",
      "Inglorious Basterds     58\n",
      "Jackie Brown           368\n",
      "Kill Bill: Vol. 1       57\n",
      "Kill Bill: Vol. 2       69\n",
      "Pulp Fiction           469\n",
      "Reservoir Dogs         421\n",
      "Name: word, dtype: int64\n",
      "\n",
      "Most used word for each movie:\n",
      "Django Unchained : n-word  (114 times)\n",
      "Inglorious Basterds : fuck (11 times)\n",
      "Jackie Brown : shit (66 times)\n",
      "Kill Bill: Vol. 1 : shit (8 times)\n",
      "Kill Bill: Vol. 2 : fucking (19 times)\n",
      "Pulp Fiction : fucking (133 times)\n",
      "Reservoir Dogs : fucking (180 times)\n"
     ]
    }
   ],
   "source": [
    "# Number of words per movie\n",
    "print(\"Number of words per movie:\")\n",
    "print(data.groupby('movie').count()['word'])\n",
    "\n",
    "# Top most used word per movie\n",
    "print()\n",
    "print(\"Most used word for each movie:\")\n",
    "movies = data.groupby('movie')\n",
    "for movie in movies.groups:\n",
    "    sorted_words = movies.get_group(movie)['word'].value_counts().head()\n",
    "    print(movie, \":\", sorted_words.index[0], \"(\" + str(sorted_words[0]) + \" times)\")"
   ]
  },
  {
   "cell_type": "code",
   "execution_count": null,
   "metadata": {},
   "outputs": [],
   "source": []
  }
 ],
 "metadata": {
  "kernelspec": {
   "display_name": "ml",
   "language": "python",
   "name": "python3"
  },
  "language_info": {
   "codemirror_mode": {
    "name": "ipython",
    "version": 3
   },
   "file_extension": ".py",
   "mimetype": "text/x-python",
   "name": "python",
   "nbconvert_exporter": "python",
   "pygments_lexer": "ipython3",
   "version": "3.8.15"
  },
  "orig_nbformat": 4
 },
 "nbformat": 4,
 "nbformat_minor": 2
}
